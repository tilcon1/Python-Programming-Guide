{
 "cells": [
  {
   "cell_type": "code",
   "execution_count": 608,
   "metadata": {},
   "outputs": [],
   "source": [
    "#\n",
    "# created by Thomas Ilconich\n",
    "# I hope this helps and I hope you \n",
    "# enjoy programming as much as I do\n",
    "#"
   ]
  },
  {
   "cell_type": "code",
   "execution_count": 609,
   "metadata": {},
   "outputs": [],
   "source": [
    "# define an object \"class\" for \"subclasses\" to \"inheret\" properties from\n",
    "class YumBrandsBusiness:\n",
    "    \n",
    "    # initialize the properties of the class object, each specified property is passed as an input later\n",
    "    def __init__(self, name, food):\n",
    "        self.name = name\n",
    "        self.food = food\n",
    "\n",
    "    # define a class function, these are known as \"methods\" when they are defined within a class\n",
    "    # this method runs the cook function on the object property of whatever subclass calls it\n",
    "    # the indentation here is important\n",
    "    def cook(self) :\n",
    "        return cooked_food[self.food]"
   ]
  },
  {
   "cell_type": "code",
   "execution_count": 610,
   "metadata": {},
   "outputs": [],
   "source": [
    "# notice the lack of indentation here, this is outside of the class objext\n",
    "# functions not within classes are just called functions\n",
    "# this function replaces the spaces in the string data type (text passed as input) with an underscore since \n",
    "# variable and function names may not have spaces in them and we intend to use the returned value to call object methods later\n",
    "# the naming convention of the function here is called \"camel case\", begins with a lower case and capitalizes each subsequent word (with no spaces)\n",
    "# the input variable here does not have to match any other variable name and is arbitray\n",
    "def formatBusinessName(businessName):\n",
    "    return businessName.replace(\" \", \"_\")\n",
    "\n",
    "#\n",
    "# this would also produce the same result\n",
    "# def formatBusinessName(x):\n",
    "#    return x.replace(\" \", \"_\")\n",
    "#"
   ]
  },
  {
   "cell_type": "code",
   "execution_count": 611,
   "metadata": {},
   "outputs": [],
   "source": [
    "# here we have a dictionary of business names and the foods they sell, together they are known as \"items\"\n",
    "# in this format the company names are called \"keys\" and the foods are \"values\"\n",
    "brands = {\n",
    "    \"Taco Bell\": \"taco\", \n",
    "    \"KFC\": \"chicken\", \n",
    "    \"Pizza Hut\" : \"pizza\"\n",
    "}\n",
    "\n",
    "# think of these in a \"table\" format\n",
    "# this is helpful for understanding the overall design and using Structured Query Language (SQL) when working with data\n",
    "# each column/column name individually is known as \"variables\" (not to be confused with the variable we define throughout the program) or \"keys\" and are array data types\n",
    "# each row individually is known as \"observations\" or \"values\" and collective called the \"field\"\n",
    "\n",
    "# Brand Name      |       Food\n",
    "# ------------------------------\n",
    "# Taco Bell       |       taco\n",
    "# KFC             |       chicken\n",
    "# Pizza Hut       |       pizza\n"
   ]
  },
  {
   "cell_type": "code",
   "execution_count": 612,
   "metadata": {},
   "outputs": [],
   "source": [
    "# the dictionary values may also be in the \"array\" format\n",
    "# an array is simply a list of multiple items with a defined array name\n",
    "# arrays may include many data types, even other dictionaries, arrays, and lists\n",
    "cooked_food = {\n",
    "    \"taco\":[\"🌮\", \"buen dorado\"],\n",
    "    \"chicken\":[\"🍗\", \"regular\", \"extra crispy\"],\n",
    "    \"pizza\":[\"🍕\", \"spicy\", \"hot\", \"cheesy\"]\n",
    "    }\n",
    "\n",
    "# reimagine in this format\n",
    "\n",
    "# Food      |       Descriptions\n",
    "# ----------------------------------------\n",
    "# taco      |       🌮, buen dorado\n",
    "# chicken   |       🍗, regular, extra crispy\n",
    "# pizza     |       🍕, spicy, hot, cheesy\n"
   ]
  },
  {
   "cell_type": "code",
   "execution_count": 613,
   "metadata": {},
   "outputs": [
    {
     "name": "stdout",
     "output_type": "stream",
     "text": [
      "Observation |  Brand    |  Food        |  Ingredients\n",
      "--------------------------------------------------------------------------------------------------\n",
      "0          |  Taco Bell     |  taco        |  🌮, buen dorado\n",
      "1          |  KFC           |  chicken     |  🍗, regular, extra crispy\n",
      "2          |  Pizza Hut     |  pizza       |  🍕, spicy, hot, cheesy\n"
     ]
    }
   ],
   "source": [
    "# while not implemented in this program, this is a demonstration of \"joining\" tables, something usually done using SQL\n",
    "# to combine the data from each table they must both share a column with the same values, in this case our \"food\" column\n",
    "# this is usually a unique value made up of numbers, letters, or a combination of the two\n",
    "\n",
    "# find maximum lengths for each column\n",
    "max_brand_length = max(len(brand) for brand in brands)\n",
    "max_food_length = max(len(food) for food in brands.values())\n",
    "max_ingredients_length = max(len(', '.join(ingredients)) for ingredients in cooked_food.values())\n",
    "\n",
    "# print table with aligned columns including 'Observation'\n",
    "print(\"Observation |  Brand\".ljust(max_brand_length + 15) + \"|  \" + \"Food\".ljust(max_food_length + 5) + \"|  Ingredients\")\n",
    "print(\"-\" * (max_brand_length + max_food_length + max_ingredients_length + 58))\n",
    "\n",
    "observation = 0\n",
    "for brand, food in brands.items():\n",
    "    ingredients = ', '.join(cooked_food[food])\n",
    "    print(str(observation).ljust(11) + \"|  \" + brand.ljust(max_brand_length + 5) + \"|  \" + food.ljust(max_food_length + 5) + f\"|  {ingredients}\")\n",
    "    observation += 1"
   ]
  },
  {
   "cell_type": "code",
   "execution_count": 614,
   "metadata": {},
   "outputs": [
    {
     "name": "stdout",
     "output_type": "stream",
     "text": [
      "numbersList[0] returns 1\n",
      "numbersList[1] returns 2\n",
      "numbersList[2] returns 3\n"
     ]
    }
   ],
   "source": [
    "# lists, arrays, dictionaries, and strings are \"indexed\" starting at 0\n",
    "# this is demonstrated in the observation column of the previous table\n",
    "numbersList = [1, 2, 3]\n",
    "\n",
    "# here we loop through the numbers list using the count of values\n",
    "for i in range(len(numbersList)):\n",
    "\n",
    "    # the value of i changes after each iteration\n",
    "    indexNumber = i\n",
    "\n",
    "    # i can be used within the loop as well\n",
    "    print(\"numbersList[\" + str(indexNumber) + \"] returns \" + str(numbersList[i]))"
   ]
  },
  {
   "cell_type": "code",
   "execution_count": 615,
   "metadata": {},
   "outputs": [
    {
     "name": "stdout",
     "output_type": "stream",
     "text": [
      "Taco_Bell makes a delicious 🌮 and it is so buen dorado I can eat 1\n",
      "KFC makes a delicious 🍗 and it is so extra crispy I can eat 2\n",
      "Pizza_Hut makes a delicious 🍕 and it is so cheesy I can eat 3\n"
     ]
    }
   ],
   "source": [
    "# here we loop through the brand names and the products they sell using arrays rather than a specified count or index\n",
    "for brandNames, food in brands.items():\n",
    "\n",
    "    # call the function to format the brand name in a way we can use later in the code\n",
    "    formatted_Name = formatBusinessName(brandNames)\n",
    "\n",
    "    # instatntiate (create an instance of) subclasses of the Business object as we defined\n",
    "    # dba as in \"doing business as\"\n",
    "    dba = YumBrandsBusiness(formatted_Name, food)\n",
    "\n",
    "    # define the output based on the input\n",
    "    if food == \"taco\":\n",
    "    \n",
    "        # here we create a string of text that incorporates the values from our newly created objects\n",
    "        # note that we get the object name then call the cook method to return the food item at index 0 of the cooked food array\n",
    "        # we also specify which value from the array we want to use for our output by specifying which value to use from the array\n",
    "        # that value is in the format of a list item, so we \"join\" a blank text value to convert it to a string\n",
    "        # finally we format the numbers from numbersList to a string so it can be included in the message \n",
    "        # the number alone would throw an error since you cannot add numbers and text together\n",
    "        print(dba.name + \" makes a delicious \" + \"\".join(dba.cook()[0]) + \" and it is so \" + \"\".join(dba.cook()[1]) + \" I can eat \" + str(numbersList[0]))\n",
    "\n",
    "    if food == \"chicken\":\n",
    "    \n",
    "        print(dba.name + \" makes a delicious \" + \"\".join(dba.cook()[0]) + \" and it is so \" + \"\".join(dba.cook()[2]) + \" I can eat \" + str(numbersList[1]))\n",
    "\n",
    "    if food == \"pizza\":\n",
    "    \n",
    "        print(dba.name + \" makes a delicious \" + \"\".join(dba.cook()[0]) + \" and it is so \" +  \"\".join(dba.cook()[3]) + \" I can eat \" + str(numbersList[2]))"
   ]
  }
 ],
 "metadata": {
  "kernelspec": {
   "display_name": "base",
   "language": "python",
   "name": "python3"
  },
  "language_info": {
   "codemirror_mode": {
    "name": "ipython",
    "version": 3
   },
   "file_extension": ".py",
   "mimetype": "text/x-python",
   "name": "python",
   "nbconvert_exporter": "python",
   "pygments_lexer": "ipython3",
   "version": "3.11.4"
  }
 },
 "nbformat": 4,
 "nbformat_minor": 2
}
