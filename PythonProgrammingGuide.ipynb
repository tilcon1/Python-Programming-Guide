{
 "cells": [
  {
   "cell_type": "code",
   "execution_count": 767,
   "metadata": {},
   "outputs": [],
   "source": [
    "#\n",
    "# created by Thomas Ilconich\n",
    "# I hope this helps and I hope you \n",
    "# enjoy programming as much as I do\n",
    "#"
   ]
  },
  {
   "cell_type": "code",
   "execution_count": 768,
   "metadata": {},
   "outputs": [],
   "source": [
    "# define an object \"class\" for \"subclasses\" to \"inheret\" properties from\n",
    "class YumBrandsBusiness:\n",
    "    \n",
    "    # initialize the properties of the class object, each specified property is passed as an input later in this implementation\n",
    "    def __init__(self, brand_name, food):\n",
    "        self.brand_name = brand_name\n",
    "        self.food = food\n",
    "\n",
    "    # define a class function, these are known as \"methods\" when they are defined within a class\n",
    "    # this method runs the cook function on the object property of whatever subclass calls it\n",
    "    # the indentation here is important\n",
    "    def cook(self) :\n",
    "        return cooked_food[self.food]"
   ]
  },
  {
   "cell_type": "code",
   "execution_count": 769,
   "metadata": {},
   "outputs": [],
   "source": [
    "# notice the lack of indentation here, this is outside of the class objext\n",
    "# functions not within classes are just called functions\n",
    "# this function replaces the spaces in the string data type (text passed as input) with an underscore since \n",
    "# variable and function names may not have spaces in them and we intend to use the returned value to call object methods later\n",
    "# the naming convention of the function here is called \"camel case\", begins with a lower case and capitalizes each subsequent word (with no spaces)\n",
    "# the input variable here does not have to match any other variable name and is arbitrary\n",
    "def formatBusinessName(businessName):\n",
    "    return businessName.replace(\" \", \"_\")\n",
    "\n",
    "#\n",
    "# this would also produce the same result\n",
    "# def formatBusinessName(x):\n",
    "#    return x.replace(\" \", \"_\")\n",
    "#"
   ]
  },
  {
   "cell_type": "code",
   "execution_count": 770,
   "metadata": {},
   "outputs": [],
   "source": [
    "# here we have a dictionary of business names and the foods they sell, together they are known as \"items\"\n",
    "# in this format the company names are called \"keys\" and the foods are \"values\"\n",
    "brands = {\n",
    "    \"Taco Bell\": \"taco\", \n",
    "    \"KFC\": \"chicken\", \n",
    "    \"Pizza Hut\" : \"pizza\"\n",
    "}\n",
    "\n",
    "# think of these in a \"table\" format\n",
    "# this is helpful for understanding the overall design and using Structured Query Language (SQL) when working with data\n",
    "# each column/column name individually is known as \"variables\" (not to be confused with the variable we define throughout the program) or \"keys\" and are array data types\n",
    "# each row individually is known as \"observations\" or \"values\" and collectively called the \"field\"\n",
    "\n",
    "# Brand Name      |       Food\n",
    "# ------------------------------\n",
    "# Taco Bell       |       taco\n",
    "# KFC             |       chicken\n",
    "# Pizza Hut       |       pizza\n"
   ]
  },
  {
   "cell_type": "code",
   "execution_count": 771,
   "metadata": {},
   "outputs": [],
   "source": [
    "# the dictionary values may also be in the \"array\" format\n",
    "# an array is simply a list of multiple items with a defined array name\n",
    "# arrays may include many data types, even other dictionaries, arrays, and lists\n",
    "cooked_food = {\n",
    "    \"taco\":[\"🌮\", \"buen dorado\"],\n",
    "    \"chicken\":[\"🍗\", \"regular\", \"extra crispy\"],\n",
    "    \"pizza\":[\"🍕\", \"spicy\", \"hot\", \"cheesy\"]\n",
    "    }\n",
    "\n",
    "# reimagine in this format\n",
    "\n",
    "# Food      |       Description\n",
    "# ----------------------------------------\n",
    "# taco      |       🌮, buen dorado\n",
    "# chicken   |       🍗, regular, extra crispy\n",
    "# pizza     |       🍕, spicy, hot, cheesy\n"
   ]
  },
  {
   "cell_type": "code",
   "execution_count": 772,
   "metadata": {},
   "outputs": [
    {
     "name": "stdout",
     "output_type": "stream",
     "text": [
      "Observation |  Brand    |  Food        |  Description\n",
      "--------------------------------------------------------------------------------------------------\n",
      "0          |  Taco Bell     |  taco        |  🌮, buen dorado\n",
      "1          |  KFC           |  chicken     |  🍗, regular, extra crispy\n",
      "2          |  Pizza Hut     |  pizza       |  🍕, spicy, hot, cheesy\n"
     ]
    }
   ],
   "source": [
    "# while not implemented in this program, this is a demonstration of \"joining\" tables, something usually done using SQL\n",
    "# to combine the data from each table they must both share a column with the same values, in this case our \"food\" column\n",
    "# this is usually a unique value made up of numbers, letters, or a combination of the two\n",
    "\n",
    "# find maximum lengths for each column\n",
    "max_brand_length = max(len(brand) for brand in brands)\n",
    "max_food_length = max(len(food) for food in brands.values())\n",
    "max_desription_length = max(len(', '.join(description)) for description in cooked_food.values())\n",
    "\n",
    "# print table with aligned columns including 'Observation'\n",
    "print(\"Observation |  Brand\".ljust(max_brand_length + 15) + \"|  \" + \"Food\".ljust(max_food_length + 5) + \"|  Description\")\n",
    "print(\"-\" * (max_brand_length + max_food_length + max_desription_length + 58))\n",
    "\n",
    "observation = 0\n",
    "for brand, food in brands.items():\n",
    "    description = ', '.join(cooked_food[food])\n",
    "    print(str(observation).ljust(11) + \"|  \" + brand.ljust(max_brand_length + 5) + \"|  \" + food.ljust(max_food_length + 5) + f\"|  {description}\")\n",
    "    observation += 1"
   ]
  },
  {
   "cell_type": "code",
   "execution_count": 773,
   "metadata": {},
   "outputs": [
    {
     "name": "stdout",
     "output_type": "stream",
     "text": [
      "numbersList[0] returns 1\n",
      "numbersList[1] returns 2\n",
      "numbersList[2] returns 3\n"
     ]
    }
   ],
   "source": [
    "# lists, arrays, dictionaries, and strings are \"indexed\" starting at 0\n",
    "# this is demonstrated in the observation column of the previous table\n",
    "numbersList = [1, 2, 3]\n",
    "\n",
    "# here we loop through the numbers list using the count of values\n",
    "for i in range(len(numbersList)):\n",
    "\n",
    "    # the value of i changes after each iteration\n",
    "    indexNumber = i\n",
    "\n",
    "    # i can be used within the loop as well\n",
    "    print(\"numbersList[\" + str(indexNumber) + \"] returns \" + str(numbersList[i]))"
   ]
  },
  {
   "cell_type": "code",
   "execution_count": 774,
   "metadata": {},
   "outputs": [
    {
     "name": "stdout",
     "output_type": "stream",
     "text": [
      "1\n",
      "2\n",
      "3\n",
      "4\n",
      "5\n"
     ]
    }
   ],
   "source": [
    "# demonstrated below is another way to iterate, count interations, and increment\n",
    "\n",
    "#create a counter variable outside of the loop\n",
    "counter = 0\n",
    "\n",
    "# specifiy the value to increment by, can be any positive or negative number you choose\n",
    "increment = 1\n",
    "\n",
    "# as the loop runs our counter value updates by the increment value\n",
    "for i in range(5):\n",
    "    counter += increment\n",
    "    print(counter)"
   ]
  },
  {
   "cell_type": "code",
   "execution_count": 775,
   "metadata": {},
   "outputs": [
    {
     "name": "stdout",
     "output_type": "stream",
     "text": [
      "Taco_Bell makes a delicious 🌮 and it is so buen dorado I can eat 1\n",
      "KFC makes a delicious 🍗 and it is so extra crispy I can eat 2\n",
      "{dba.brand_name} makes a delicious {dba.cook()[0]} and it is so {dba.cook()[3]} I can eat {numbersList[2]}\n"
     ]
    }
   ],
   "source": [
    "\n",
    "# here we loop through the brand names and the products they sell using arrays rather than a specified count or index\n",
    "for brandNames, food in brands.items():\n",
    "\n",
    "    # call the function to format the brand name in a way we can use later in the code\n",
    "    formatted_Name = formatBusinessName(brandNames)\n",
    "\n",
    "    # instatntiate (create an instance of) subclasses of the YumBrandBusiness object as we defined\n",
    "    # dba as in \"doing business as\"\n",
    "    doingBusinessAs = YumBrandsBusiness(formatted_Name, food)\n",
    "    dba = doingBusinessAs\n",
    "\n",
    "    # define the output based on the input\n",
    "    if food == \"taco\":\n",
    "    \n",
    "        # here we create a string of text that incorporates the values from our newly created objects\n",
    "        # note that we get the object name then call the cook method to return the food item at index 0 of the cooked food array\n",
    "        # we also specify which value from the array we want to use for our output by specifying which value to use from the array\n",
    "        # that value is in the format of a list item, so we \"join\" a blank text value to convert it to a string\n",
    "        # finally we format the numbers from numbersList to a string so it can be included in the message \n",
    "        # the number alone would throw an error since you cannot add numbers and text together\n",
    "        print(dba.brand_name + \" makes a delicious \" + \"\".join(dba.cook()[0]) + \" and it is so \" + \"\".join(dba.cook()[1]) + \" I can eat \" + str(numbersList[0]))\n",
    "\n",
    "    if food == \"chicken\":\n",
    "    \n",
    "        #python allows us to simplyfy writing strings using \"f strings\" as demonstrated below\n",
    "        print(f\"{dba.brand_name} makes a delicious {dba.cook()[0]} and it is so {dba.cook()[2]} I can eat {numbersList[1]}\")\n",
    "\n",
    "    if food == \"pizza\":\n",
    "    \n",
    "        # demonstrated below is a \"raw string\" that prints exactly the text that is provided\n",
    "        print(r\"{dba.brand_name} makes a delicious {dba.cook()[0]} and it is so {dba.cook()[3]} I can eat {numbersList[2]}\")"
   ]
  },
  {
   "cell_type": "code",
   "execution_count": 776,
   "metadata": {},
   "outputs": [],
   "source": [
    "# sometimes you need to import libraries to perform tasks, in the next example we want\n",
    "# to use random choices and numbers so we need to import the random library\n",
    "import random"
   ]
  },
  {
   "cell_type": "code",
   "execution_count": 777,
   "metadata": {},
   "outputs": [
    {
     "name": "stdout",
     "output_type": "stream",
     "text": [
      "A new KFC has opened a big storefront in New York with 55 employees serving 🍗\n",
      "A new Taco Bell has opened a small storefront in San Francisco with 49 employees serving 🌮\n",
      "A new Pizza Hut has opened a big storefront in Sydney with 74 employees serving 🍕\n"
     ]
    }
   ],
   "source": [
    "# here we demonstrate the \"factory\" pattern, one of 23 patterns from the prolific book\n",
    "# on programming \"Design Patterns\" to generate the storefronts for the businesses\n",
    "\n",
    "# we start be defining the types of storefronts that may be created, in this case\n",
    "# we have big and small storefronts\n",
    "class BigStorefront(YumBrandsBusiness):\n",
    "    def __init__(self, brand_name, city, employee_count):\n",
    "        super().__init__(brand_name, brands[brand_name])\n",
    "        self.city = city\n",
    "        self.employee_count = employee_count\n",
    "\n",
    "    def info(self):\n",
    "        return f\"A new {self.brand_name} has opened a big storefront in {self.city} with {self.employee_count} employees\"\n",
    "\n",
    "class SmallStoreFront(YumBrandsBusiness):\n",
    "    def __init__(self, brand_name, city, employee_count):\n",
    "        super().__init__(brand_name, brands[brand_name])\n",
    "        self.city = city\n",
    "        self.employee_count = employee_count\n",
    "\n",
    "    def info(self):\n",
    "        return f\"A new {self.brand_name} has opened a small storefront in {self.city} with {self.employee_count} employees\"\n",
    "\n",
    "# this is where we create the factory that will output newly generated storefronts\n",
    "class StoreFrontFactory:\n",
    "    # initialize the brands list to pull values from\n",
    "    def __init__(self):\n",
    "        self.brands = brands\n",
    "\n",
    "    def create_store(self, city, employee_count, **kwargs):\n",
    "        \n",
    "        store_brand = random.choice(list(self.brands.keys()))\n",
    "\n",
    "        if employee_count >= 50:\n",
    "            return BigStorefront(store_brand, city, employee_count)\n",
    "        elif employee_count < 50:\n",
    "            return SmallStoreFront(store_brand, city, employee_count)\n",
    "        else:\n",
    "            raise ValueError(\"Invalid storefront type\")\n",
    "\n",
    "# Creating instances using the factory\n",
    "factory = StoreFrontFactory()\n",
    "\n",
    "# create a list of city names\n",
    "cities = [\"New York\", \"London\", \"Paris\", \"Tokyo\", \"Sydney\", \"Berlin\", \"Rome\", \"Moscow\", \"Beijing\"]\n",
    "\n",
    "# pick a random city from the list\n",
    "randomCity = random.choice(cities)\n",
    "\n",
    "# generate a random employee count\n",
    "randomEmployeeCount = random.randint(1, 100)\n",
    "\n",
    "# use the factory method to produce new stores\n",
    "bigStore = factory.create_store(\"New York\", employee_count=55)\n",
    "smallStore = factory.create_store(\"San Francisco\", employee_count=49)\n",
    "newStore = factory.create_store(randomCity, randomEmployeeCount)\n",
    "\n",
    "# we use the factory output objects to call the info and cook methods for each storefront\n",
    "print(bigStore.info() + f\" serving {bigStore.cook()[0]}\")\n",
    "print(smallStore.info() + f\" serving {smallStore.cook()[0]}\")\n",
    "print(newStore.info() + f\" serving {newStore.cook()[0]}\")\n"
   ]
  }
 ],
 "metadata": {
  "kernelspec": {
   "display_name": "base",
   "language": "python",
   "name": "python3"
  },
  "language_info": {
   "codemirror_mode": {
    "name": "ipython",
    "version": 3
   },
   "file_extension": ".py",
   "mimetype": "text/x-python",
   "name": "python",
   "nbconvert_exporter": "python",
   "pygments_lexer": "ipython3",
   "version": "3.11.4"
  }
 },
 "nbformat": 4,
 "nbformat_minor": 2
}
